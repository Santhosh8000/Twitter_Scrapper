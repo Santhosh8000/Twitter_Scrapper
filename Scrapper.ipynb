{
  "nbformat": 4,
  "nbformat_minor": 0,
  "metadata": {
    "colab": {
      "provenance": []
    },
    "kernelspec": {
      "name": "python3",
      "display_name": "Python 3"
    },
    "language_info": {
      "name": "python"
    }
  },
  "cells": [
    {
      "cell_type": "markdown",
      "source": [
        "# **Mining Twitter Data**\n",
        "Mining twitter data would be very helpful if you would like to build machine learning models based on NLP techniques.\n",
        "\n",
        "I started this as an hobby project and it needs twitter developer account and it's very easy to implement.\n",
        "\n",
        "\n",
        "*Steps followed here:*\n",
        "\n",
        "\n",
        "1.   Set up Twitter development Account\n",
        "\n",
        "2.   Import twitter package\n",
        "\n",
        "3.   Establish connection with twitter\n",
        "\n",
        "4.   Search by hashtags"
      ],
      "metadata": {
        "id": "ryNUe5xQVhzl"
      }
    },
    {
      "cell_type": "markdown",
      "source": [
        "# Setup Twitter Dev App\n",
        "\n",
        "First and foremost, get set up with Twitter developer app. In order to get set up, you will have to do the following:\n",
        "\n",
        "\n",
        "*   Open a Twitter account\n",
        "\n",
        "*   Apply for a developer account, https://developer.twitter.com/en/apply-for-access\n",
        "\n",
        "*   Create by going to the apps page, https://developer.twitter.com/en/apps. You need to enter certain details along with verifying your app request.\n",
        "\n",
        "*   Once verified, Go to Twitter app page and get access to your keys and tokens\n",
        "\n",
        "*   Copy your access keys (*API key and API secret key*) and tokens (*access token and access token secret*).\n",
        "\n"
      ],
      "metadata": {
        "id": "HBQaaiR9akiA"
      }
    },
    {
      "cell_type": "markdown",
      "source": [
        "#Install Python Twitter Package\n"
      ],
      "metadata": {
        "id": "FxoENqCicc44"
      }
    },
    {
      "cell_type": "code",
      "execution_count": 1,
      "metadata": {
        "colab": {
          "base_uri": "https://localhost:8080/"
        },
        "id": "7uzqhWiUSPvr",
        "outputId": "7084c994-dbdf-4443-d26b-acb1438b3f37"
      },
      "outputs": [
        {
          "output_type": "stream",
          "name": "stdout",
          "text": [
            "Collecting twitter\n",
            "  Downloading twitter-1.19.6-py2.py3-none-any.whl (50 kB)\n",
            "\u001b[?25l     \u001b[90m━━━━━━━━━━━━━━━━━━━━━━━━━━━━━━━━━━━━━━━━\u001b[0m \u001b[32m0.0/50.3 kB\u001b[0m \u001b[31m?\u001b[0m eta \u001b[36m-:--:--\u001b[0m\r\u001b[2K     \u001b[91m━━━━━━━━━━━━━━━━━━━━━━━━━━━━━━━━\u001b[0m\u001b[91m╸\u001b[0m\u001b[90m━━━━━━━\u001b[0m \u001b[32m41.0/50.3 kB\u001b[0m \u001b[31m3.0 MB/s\u001b[0m eta \u001b[36m0:00:01\u001b[0m\r\u001b[2K     \u001b[90m━━━━━━━━━━━━━━━━━━━━━━━━━━━━━━━━━━━━━━━━\u001b[0m \u001b[32m50.3/50.3 kB\u001b[0m \u001b[31m1.1 MB/s\u001b[0m eta \u001b[36m0:00:00\u001b[0m\n",
            "\u001b[?25hRequirement already satisfied: certifi in /usr/local/lib/python3.10/dist-packages (from twitter) (2023.7.22)\n",
            "Installing collected packages: twitter\n",
            "Successfully installed twitter-1.19.6\n"
          ]
        }
      ],
      "source": [
        "!pip install twitter"
      ]
    },
    {
      "cell_type": "markdown",
      "source": [
        "#Establish Connection with Twitter"
      ],
      "metadata": {
        "id": "KUhCAn9icrq-"
      }
    },
    {
      "cell_type": "code",
      "source": [
        "import twitter\n",
        "\n",
        "twitter?"
      ],
      "metadata": {
        "id": "Yd0Kx5tVSWqs"
      },
      "execution_count": 2,
      "outputs": []
    },
    {
      "cell_type": "code",
      "source": [
        "import twitter\n",
        "CONSUMER_KEY = 'fabcCMBqAABB43XSEjyMNEFGO'\n",
        "CONSUMER_SECRET = 'gpIMAbCdSsAAKKtApABCDEZJnvz12erfr9rANcrTGV5af4gfGv'\n",
        "OAUTH_ACCESS_TOKEN = '1234567897-qNAbCiVABCDERQ5CIjxxfs67lJfEWBQGJO'\n",
        "OAUTH_ACCESS_TOKEN_SECRET = 'jOneIJFEFGHWaCfu4vzmtABCDDwPmnopqVGRad5GHJTbgF'\n",
        "\n",
        "auth = twitter.oauth.OAuth(OAUTH_ACCESS_TOKEN, OAUTH_ACCESS_TOKEN_SECRET,CONSUMER_KEY, CONSUMER_SECRET)\n",
        "\n",
        "twitter_api = twitter.Twitter(auth=auth)\n",
        "print(twitter_api)"
      ],
      "metadata": {
        "colab": {
          "base_uri": "https://localhost:8080/"
        },
        "id": "Qeto0bYhSfm1",
        "outputId": "5d2ab9ef-56a2-4402-a22c-e2bc6555ade4"
      },
      "execution_count": 3,
      "outputs": [
        {
          "output_type": "stream",
          "name": "stdout",
          "text": [
            "<twitter.api.Twitter object at 0x7d7ca74abd00>\n"
          ]
        }
      ]
    },
    {
      "cell_type": "code",
      "source": [
        "import json\n",
        "INDIA_WOE_ID = 2282863\n",
        "\n",
        "india_trends = twitter_api.trends.place(_id=INDIA_WOE_ID)\n",
        "print(json.dumps(india_trends, indent=1))\n",
        "twitter_api.statuses.user_timeline(screen_name=\"vitalflux\")"
      ],
      "metadata": {
        "id": "uQ7D5nW4TEY1"
      },
      "execution_count": null,
      "outputs": []
    },
    {
      "cell_type": "markdown",
      "source": [
        "#Searching Twitter hashtags"
      ],
      "metadata": {
        "id": "X7U85PclTbrn"
      }
    },
    {
      "cell_type": "code",
      "source": [
        "tweets = twitter_api.search.tweets(q=\"#deeplearning\", max_results=200)\n",
        "\n",
        "# Printing the tweets\n",
        "\n",
        "RETWEET_COUNT_THRESHOLD = 25\n",
        "\n",
        "for status in tweets['statuses']:\n",
        "  if status['retweet_count'] > RETWEET_COUNT_THRESHOLD:\n",
        "    print('\\n\\n', status['user']['screen_name'], \":\", status['text'], '\\nTweet URL: ', status['retweeted_status']['entities']['urls'][0]['expanded_url'],\n",
        "          '\\nRetweet count: ', status['retweet_count'])"
      ],
      "metadata": {
        "id": "RYwNLT2uTVCt"
      },
      "execution_count": null,
      "outputs": []
    }
  ]
}